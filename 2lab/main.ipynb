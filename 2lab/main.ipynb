{
 "cells": [
  {
   "cell_type": "markdown",
   "id": "relative-cross",
   "metadata": {},
   "source": [
    "# Подготовительные действия"
   ]
  },
  {
   "cell_type": "code",
   "execution_count": 1,
   "id": "fatty-tourism",
   "metadata": {},
   "outputs": [
    {
     "name": "stdout",
     "output_type": "stream",
     "text": [
      "Defaulting to user installation because normal site-packages is not writeable\n",
      "Requirement already satisfied: speedtest-cli in /home/millfort/.local/lib/python3.9/site-packages (2.1.2)\n"
     ]
    }
   ],
   "source": [
    "!pip install speedtest-cli"
   ]
  },
  {
   "cell_type": "code",
   "execution_count": 2,
   "id": "daily-treat",
   "metadata": {},
   "outputs": [],
   "source": [
    "import datetime\n",
    "import csv\n",
    "import subprocess"
   ]
  },
  {
   "cell_type": "code",
   "execution_count": 3,
   "id": "expected-cholesterol",
   "metadata": {},
   "outputs": [
    {
     "name": "stdout",
     "output_type": "stream",
     "text": [
      "2021-02-27 14:47:31.202951 <class 'datetime.datetime'>\n"
     ]
    }
   ],
   "source": [
    "date_time = datetime.datetime.now()\n",
    "print(date_time, type(date_time))"
   ]
  },
  {
   "cell_type": "code",
   "execution_count": 4,
   "id": "arranged-wrong",
   "metadata": {},
   "outputs": [
    {
     "data": {
      "text/plain": [
       "'Sat, 27 Feb 2021 14:47:31'"
      ]
     },
     "execution_count": 4,
     "metadata": {},
     "output_type": "execute_result"
    }
   ],
   "source": [
    "date_time.strftime('%a, %d %b %Y %H:%M:%S')"
   ]
  },
  {
   "cell_type": "code",
   "execution_count": 5,
   "id": "sweet-angle",
   "metadata": {},
   "outputs": [
    {
     "data": {
      "text/plain": [
       "'2021-02-27 14:47:31'"
      ]
     },
     "execution_count": 5,
     "metadata": {},
     "output_type": "execute_result"
    }
   ],
   "source": [
    "date_time.strftime('%Y-%m-%d %H:%M:%S')"
   ]
  },
  {
   "cell_type": "markdown",
   "id": "oriental-equity",
   "metadata": {},
   "source": [
    "# Выполнение работы"
   ]
  },
  {
   "cell_type": "code",
   "execution_count": 6,
   "id": "sophisticated-battle",
   "metadata": {},
   "outputs": [],
   "source": [
    "speedtest_cmd = \"speedtest-cli --simple\"\n",
    "process = subprocess.Popen(speedtest_cmd.split(), stdout=subprocess.PIPE)\n",
    "process_output = process.communicate()[0]"
   ]
  },
  {
   "cell_type": "code",
   "execution_count": 7,
   "id": "competitive-provider",
   "metadata": {},
   "outputs": [
    {
     "name": "stdout",
     "output_type": "stream",
     "text": [
      "b'Ping: 51.955 ms\\nDownload: 67.07 Mbit/s\\nUpload: 66.77 Mbit/s\\n' <class 'bytes'>\n"
     ]
    }
   ],
   "source": [
    "print(process_output, type(process_output))"
   ]
  },
  {
   "cell_type": "code",
   "execution_count": 8,
   "id": "canadian-billion",
   "metadata": {},
   "outputs": [
    {
     "name": "stdout",
     "output_type": "stream",
     "text": [
      "[b'Ping:', b'51.955', b'ms', b'Download:', b'67.07', b'Mbit/s', b'Upload:', b'66.77', b'Mbit/s', '2021-02-27 14:47:57'] <class 'list'>\n"
     ]
    }
   ],
   "source": [
    "date_time = datetime.datetime.now().strftime(\"%Y-%m-%d %H:%M:%S\")\n",
    "process_output = process_output.split()\n",
    "process_output.append(date_time)\n",
    "print(process_output, type(process_output))"
   ]
  },
  {
   "cell_type": "code",
   "execution_count": 9,
   "id": "foreign-equity",
   "metadata": {},
   "outputs": [],
   "source": [
    "def speedtest():\n",
    "    date_time = datetime.datetime.now().strftime(\"%Y-%m-%d %H:%M:%S\")\n",
    "    speedtest_cmd = \"speedtest-cli --simple\"\n",
    "    process = subprocess.Popen(speedtest_cmd.split(), stdout=subprocess.PIPE)\n",
    "    process_output = process.communicate()[0]\n",
    "    process_output = process_output.split()\n",
    "    process_output.append(date_time)\n",
    "    return process_output"
   ]
  },
  {
   "cell_type": "code",
   "execution_count": 10,
   "id": "extended-design",
   "metadata": {},
   "outputs": [
    {
     "data": {
      "text/plain": [
       "[b'Ping:',\n",
       " b'51.99',\n",
       " b'ms',\n",
       " b'Download:',\n",
       " b'45.11',\n",
       " b'Mbit/s',\n",
       " b'Upload:',\n",
       " b'90.70',\n",
       " b'Mbit/s',\n",
       " '2021-02-27 14:47:57']"
      ]
     },
     "execution_count": 10,
     "metadata": {},
     "output_type": "execute_result"
    }
   ],
   "source": [
    "speedtest()"
   ]
  },
  {
   "cell_type": "code",
   "execution_count": 11,
   "id": "vocal-service",
   "metadata": {},
   "outputs": [
    {
     "name": "stdout",
     "output_type": "stream",
     "text": [
      "[b'Ping:', b'51.727', b'ms', b'Download:', b'54.92', b'Mbit/s', b'Upload:', b'88.63', b'Mbit/s', '2021-02-27 14:48:20'] <class 'list'>\n"
     ]
    }
   ],
   "source": [
    "st = speedtest()\n",
    "print(st, type(st))"
   ]
  },
  {
   "cell_type": "code",
   "execution_count": 12,
   "id": "considered-terrorist",
   "metadata": {},
   "outputs": [],
   "source": [
    "with open(\"/tmp/test.txt\", \"w\") as f:\n",
    "    f.write('test_msg')"
   ]
  },
  {
   "cell_type": "code",
   "execution_count": 13,
   "id": "relevant-relevance",
   "metadata": {},
   "outputs": [
    {
     "name": "stdout",
     "output_type": "stream",
     "text": [
      "test_msg"
     ]
    }
   ],
   "source": [
    "!cat /tmp/test.txt"
   ]
  },
  {
   "cell_type": "code",
   "execution_count": 14,
   "id": "informational-princeton",
   "metadata": {},
   "outputs": [
    {
     "name": "stdout",
     "output_type": "stream",
     "text": [
      "test_msg\n"
     ]
    }
   ],
   "source": [
    "with open(\"/tmp/test.txt\", \"r\") as f:\n",
    "    str = f.read()\n",
    "print(str)"
   ]
  },
  {
   "cell_type": "code",
   "execution_count": 15,
   "id": "seven-hazard",
   "metadata": {},
   "outputs": [],
   "source": [
    "def save_to_csv(data, filename):\n",
    "    try:\n",
    "        with open(filename + '.csv', 'a') as f:\n",
    "            wr = csv.writer(f)\n",
    "            wr.writerow(data)\n",
    "    except:\n",
    "        with open(filename + '.csv', 'w') as f:\n",
    "            wr = csv.writer(f)\n",
    "            wr.writerow(data)"
   ]
  },
  {
   "cell_type": "code",
   "execution_count": 16,
   "id": "persistent-metro",
   "metadata": {},
   "outputs": [],
   "source": [
    "def print_from_csv(filename):\n",
    "    with open(filename + '.csv', 'r') as f:\n",
    "        re = csv.reader(f)\n",
    "        for row in re:\n",
    "            print(row)"
   ]
  },
  {
   "cell_type": "markdown",
   "id": "compound-proposal",
   "metadata": {},
   "source": [
    "# Процедура проведения измерений и сбора данных"
   ]
  },
  {
   "cell_type": "code",
   "execution_count": null,
   "id": "casual-archives",
   "metadata": {},
   "outputs": [
    {
     "name": "stdout",
     "output_type": "stream",
     "text": [
      "Test number 0\n",
      "[b'Ping:', b'51.382', b'ms', b'Download:', b'62.78', b'Mbit/s', b'Upload:', b'87.76', b'Mbit/s', '2021-02-27 14:48:44']\n",
      "Test number 1\n",
      "[b'Ping:', b'54.153', b'ms', b'Download:', b'34.10', b'Mbit/s', b'Upload:', b'88.48', b'Mbit/s', '2021-02-27 14:49:08']\n",
      "Test number 2\n",
      "[b'Ping:', b'50.649', b'ms', b'Download:', b'51.10', b'Mbit/s', b'Upload:', b'89.63', b'Mbit/s', '2021-02-27 14:49:31']\n",
      "Test number 3\n",
      "[b'Ping:', b'51.196', b'ms', b'Download:', b'48.33', b'Mbit/s', b'Upload:', b'90.76', b'Mbit/s', '2021-02-27 14:49:54']\n"
     ]
    }
   ],
   "source": [
    "for i in range(5):\n",
    "    speedtest_output = speedtest()\n",
    "    print('Test number {}'.format(i))\n",
    "    print(speedtest_output)\n",
    "    save_to_csv(speedtest_output, '/tmp/rpi_data_test')"
   ]
  },
  {
   "cell_type": "code",
   "execution_count": null,
   "id": "unusual-optimum",
   "metadata": {},
   "outputs": [],
   "source": [
    "print_from_csv('/tmp/rpi_data_test')"
   ]
  },
  {
   "cell_type": "markdown",
   "id": "scientific-separate",
   "metadata": {},
   "source": [
    "# Обработка данных"
   ]
  },
  {
   "cell_type": "code",
   "execution_count": null,
   "id": "indie-correspondence",
   "metadata": {},
   "outputs": [],
   "source": [
    "import datetime\n",
    "import csv\n",
    "import pandas as pd"
   ]
  },
  {
   "cell_type": "code",
   "execution_count": null,
   "id": "introductory-repeat",
   "metadata": {},
   "outputs": [],
   "source": [
    "!head -n 5 rpi_data_long.csv"
   ]
  },
  {
   "cell_type": "code",
   "execution_count": null,
   "id": "vertical-intelligence",
   "metadata": {},
   "outputs": [],
   "source": [
    "data_file = 'rpi_data_long.csv'"
   ]
  },
  {
   "cell_type": "code",
   "execution_count": null,
   "id": "structural-justice",
   "metadata": {},
   "outputs": [],
   "source": [
    "column_names = ['Type A', 'Measure A', 'Unit A',\n",
    "                'Type B', 'Measure B', 'Unit B',\n",
    "                'Type C', 'Measure C', 'Unit C',\n",
    "                'Datetime']"
   ]
  },
  {
   "cell_type": "code",
   "execution_count": null,
   "id": "southwest-gambling",
   "metadata": {},
   "outputs": [],
   "source": [
    "with open(data_file, 'r') as f:\n",
    "    df_redundant = pd.read_csv(f, names = column_names)"
   ]
  },
  {
   "cell_type": "code",
   "execution_count": null,
   "id": "unique-airplane",
   "metadata": {},
   "outputs": [],
   "source": [
    "df_redundant.head()"
   ]
  },
  {
   "cell_type": "code",
   "execution_count": null,
   "id": "mature-plumbing",
   "metadata": {},
   "outputs": [],
   "source": [
    "df_compact = df_redundant.copy()"
   ]
  },
  {
   "cell_type": "code",
   "execution_count": null,
   "id": "opening-martial",
   "metadata": {},
   "outputs": [],
   "source": [
    "df_compact.rename(columns={'Measure A': 'Ping (ms)',\n",
    "                           'Measure B': 'Download (Mbit/s)',\n",
    "                           'Measure C': 'Upload (Mbit/s)'}, inplace=True)\n",
    "df_compact.head(3)"
   ]
  },
  {
   "cell_type": "code",
   "execution_count": null,
   "id": "unique-connection",
   "metadata": {},
   "outputs": [],
   "source": [
    "df_compact.drop(['Type A', 'Type B', 'Type C',\n",
    "                 'Unit A', 'Unit B', 'Unit C'], axis=1, inplace=True)\n",
    "df_compact.head(3)"
   ]
  },
  {
   "cell_type": "code",
   "execution_count": null,
   "id": "abroad-moldova",
   "metadata": {},
   "outputs": [],
   "source": [
    "df_compact['Date'] = df_compact['Datetime'].apply(lambda dt_str: pd.to_datetime(dt_str).date())"
   ]
  },
  {
   "cell_type": "code",
   "execution_count": null,
   "id": "stylish-active",
   "metadata": {},
   "outputs": [],
   "source": [
    "temp = df_compact['Datetime'].apply(lambda dt_str: pd.to_datetime(dt_str))\n",
    "df_compact['Time'] = temp.dt.time"
   ]
  },
  {
   "cell_type": "code",
   "execution_count": null,
   "id": "better-tourism",
   "metadata": {},
   "outputs": [],
   "source": [
    "df_compact.drop('Datetime', axis=1, inplace=True)\n",
    "df_compact.head(3)"
   ]
  },
  {
   "cell_type": "code",
   "execution_count": null,
   "id": "middle-there",
   "metadata": {},
   "outputs": [],
   "source": [
    "print(df_compact['Date'][0], type(df_compact['Date'][0]))\n",
    "print(df_compact['Time'][0], type(df_compact['Time'][0]))"
   ]
  },
  {
   "cell_type": "code",
   "execution_count": null,
   "id": "satellite-bicycle",
   "metadata": {},
   "outputs": [],
   "source": [
    "df_compact.to_csv('rpi_data_compact.csv')"
   ]
  }
 ],
 "metadata": {
  "kernelspec": {
   "display_name": "Python 3",
   "language": "python",
   "name": "python3"
  },
  "language_info": {
   "codemirror_mode": {
    "name": "ipython",
    "version": 3
   },
   "file_extension": ".py",
   "mimetype": "text/x-python",
   "name": "python",
   "nbconvert_exporter": "python",
   "pygments_lexer": "ipython3",
   "version": "3.9.1"
  }
 },
 "nbformat": 4,
 "nbformat_minor": 5
}
