{
 "cells": [
  {
   "cell_type": "code",
   "execution_count": 1,
   "id": "metallic-shape",
   "metadata": {},
   "outputs": [],
   "source": [
    "import pandas as pd\n",
    "\n",
    "training = pd.read_csv('titanic-train.csv')"
   ]
  },
  {
   "cell_type": "code",
   "execution_count": 2,
   "id": "structured-underground",
   "metadata": {},
   "outputs": [
    {
     "name": "stdout",
     "output_type": "stream",
     "text": [
      "<class 'pandas.core.frame.DataFrame'>\n",
      "RangeIndex: 915 entries, 0 to 914\n",
      "Data columns (total 12 columns):\n",
      " #   Column       Non-Null Count  Dtype  \n",
      "---  ------       --------------  -----  \n",
      " 0   PassengerId  915 non-null    int64  \n",
      " 1   Survived     915 non-null    int64  \n",
      " 2   Pclass       915 non-null    int64  \n",
      " 3   Name         915 non-null    object \n",
      " 4   Gender       915 non-null    object \n",
      " 5   Age          738 non-null    float64\n",
      " 6   SibSp        915 non-null    int64  \n",
      " 7   Parch        915 non-null    int64  \n",
      " 8   Ticket       915 non-null    object \n",
      " 9   Fare         915 non-null    float64\n",
      " 10  Cabin        202 non-null    object \n",
      " 11  Embarked     914 non-null    object \n",
      "dtypes: float64(2), int64(5), object(5)\n",
      "memory usage: 85.9+ KB\n"
     ]
    }
   ],
   "source": [
    "training.info()\n",
    "# судя по выводу, в таблице присутствуют недостающие значения, \n",
    "# т.к. различается число \"Non-Null Count\""
   ]
  },
  {
   "cell_type": "code",
   "execution_count": 3,
   "id": "grand-paris",
   "metadata": {},
   "outputs": [
    {
     "data": {
      "text/html": [
       "<div>\n",
       "<style scoped>\n",
       "    .dataframe tbody tr th:only-of-type {\n",
       "        vertical-align: middle;\n",
       "    }\n",
       "\n",
       "    .dataframe tbody tr th {\n",
       "        vertical-align: top;\n",
       "    }\n",
       "\n",
       "    .dataframe thead th {\n",
       "        text-align: right;\n",
       "    }\n",
       "</style>\n",
       "<table border=\"1\" class=\"dataframe\">\n",
       "  <thead>\n",
       "    <tr style=\"text-align: right;\">\n",
       "      <th></th>\n",
       "      <th>PassengerId</th>\n",
       "      <th>Survived</th>\n",
       "      <th>Pclass</th>\n",
       "      <th>Name</th>\n",
       "      <th>Gender</th>\n",
       "      <th>Age</th>\n",
       "      <th>SibSp</th>\n",
       "      <th>Parch</th>\n",
       "      <th>Ticket</th>\n",
       "      <th>Fare</th>\n",
       "      <th>Cabin</th>\n",
       "      <th>Embarked</th>\n",
       "    </tr>\n",
       "  </thead>\n",
       "  <tbody>\n",
       "    <tr>\n",
       "      <th>0</th>\n",
       "      <td>1</td>\n",
       "      <td>0</td>\n",
       "      <td>1</td>\n",
       "      <td>Davidson, Mr. Thornton</td>\n",
       "      <td>male</td>\n",
       "      <td>31.0</td>\n",
       "      <td>1</td>\n",
       "      <td>0</td>\n",
       "      <td>F.C. 12750</td>\n",
       "      <td>52.0000</td>\n",
       "      <td>B71</td>\n",
       "      <td>S</td>\n",
       "    </tr>\n",
       "    <tr>\n",
       "      <th>1</th>\n",
       "      <td>2</td>\n",
       "      <td>0</td>\n",
       "      <td>3</td>\n",
       "      <td>Asim, Mr. Adola</td>\n",
       "      <td>male</td>\n",
       "      <td>35.0</td>\n",
       "      <td>0</td>\n",
       "      <td>0</td>\n",
       "      <td>SOTON/O.Q. 3101310</td>\n",
       "      <td>7.0500</td>\n",
       "      <td>NaN</td>\n",
       "      <td>S</td>\n",
       "    </tr>\n",
       "    <tr>\n",
       "      <th>2</th>\n",
       "      <td>3</td>\n",
       "      <td>0</td>\n",
       "      <td>3</td>\n",
       "      <td>Nankoff, Mr. Minko</td>\n",
       "      <td>male</td>\n",
       "      <td>NaN</td>\n",
       "      <td>0</td>\n",
       "      <td>0</td>\n",
       "      <td>349218</td>\n",
       "      <td>7.8958</td>\n",
       "      <td>NaN</td>\n",
       "      <td>S</td>\n",
       "    </tr>\n",
       "    <tr>\n",
       "      <th>3</th>\n",
       "      <td>4</td>\n",
       "      <td>0</td>\n",
       "      <td>1</td>\n",
       "      <td>Thayer, Mr. John Borland</td>\n",
       "      <td>male</td>\n",
       "      <td>49.0</td>\n",
       "      <td>1</td>\n",
       "      <td>1</td>\n",
       "      <td>17421</td>\n",
       "      <td>110.8833</td>\n",
       "      <td>C68</td>\n",
       "      <td>C</td>\n",
       "    </tr>\n",
       "    <tr>\n",
       "      <th>4</th>\n",
       "      <td>5</td>\n",
       "      <td>0</td>\n",
       "      <td>3</td>\n",
       "      <td>Strandberg, Miss. Ida Sofia</td>\n",
       "      <td>female</td>\n",
       "      <td>22.0</td>\n",
       "      <td>0</td>\n",
       "      <td>0</td>\n",
       "      <td>7553</td>\n",
       "      <td>9.8375</td>\n",
       "      <td>NaN</td>\n",
       "      <td>S</td>\n",
       "    </tr>\n",
       "  </tbody>\n",
       "</table>\n",
       "</div>"
      ],
      "text/plain": [
       "   PassengerId  Survived  Pclass                         Name  Gender   Age  \\\n",
       "0            1         0       1       Davidson, Mr. Thornton    male  31.0   \n",
       "1            2         0       3              Asim, Mr. Adola    male  35.0   \n",
       "2            3         0       3           Nankoff, Mr. Minko    male   NaN   \n",
       "3            4         0       1     Thayer, Mr. John Borland    male  49.0   \n",
       "4            5         0       3  Strandberg, Miss. Ida Sofia  female  22.0   \n",
       "\n",
       "   SibSp  Parch              Ticket      Fare Cabin Embarked  \n",
       "0      1      0          F.C. 12750   52.0000   B71        S  \n",
       "1      0      0  SOTON/O.Q. 3101310    7.0500   NaN        S  \n",
       "2      0      0              349218    7.8958   NaN        S  \n",
       "3      1      1               17421  110.8833   C68        C  \n",
       "4      0      0                7553    9.8375   NaN        S  "
      ]
     },
     "execution_count": 3,
     "metadata": {},
     "output_type": "execute_result"
    }
   ],
   "source": [
    "training.head()"
   ]
  },
  {
   "cell_type": "code",
   "execution_count": 4,
   "id": "divided-plymouth",
   "metadata": {},
   "outputs": [],
   "source": [
    "training[\"Gender\"] = training[\"Gender\"].apply(\n",
    "    lambda toLabel: 0 if toLabel == 'male' else 1\n",
    ")"
   ]
  },
  {
   "cell_type": "code",
   "execution_count": 5,
   "id": "ordered-birth",
   "metadata": {},
   "outputs": [],
   "source": [
    "training[\"Age\"].fillna(training[\"Age\"].mean(), inplace=True)"
   ]
  },
  {
   "cell_type": "code",
   "execution_count": 6,
   "id": "cosmetic-speaker",
   "metadata": {},
   "outputs": [
    {
     "name": "stdout",
     "output_type": "stream",
     "text": [
      "<class 'pandas.core.frame.DataFrame'>\n",
      "RangeIndex: 915 entries, 0 to 914\n",
      "Data columns (total 12 columns):\n",
      " #   Column       Non-Null Count  Dtype  \n",
      "---  ------       --------------  -----  \n",
      " 0   PassengerId  915 non-null    int64  \n",
      " 1   Survived     915 non-null    int64  \n",
      " 2   Pclass       915 non-null    int64  \n",
      " 3   Name         915 non-null    object \n",
      " 4   Gender       915 non-null    int64  \n",
      " 5   Age          915 non-null    float64\n",
      " 6   SibSp        915 non-null    int64  \n",
      " 7   Parch        915 non-null    int64  \n",
      " 8   Ticket       915 non-null    object \n",
      " 9   Fare         915 non-null    float64\n",
      " 10  Cabin        202 non-null    object \n",
      " 11  Embarked     914 non-null    object \n",
      "dtypes: float64(2), int64(6), object(4)\n",
      "memory usage: 85.9+ KB\n"
     ]
    },
    {
     "data": {
      "text/html": [
       "<div>\n",
       "<style scoped>\n",
       "    .dataframe tbody tr th:only-of-type {\n",
       "        vertical-align: middle;\n",
       "    }\n",
       "\n",
       "    .dataframe tbody tr th {\n",
       "        vertical-align: top;\n",
       "    }\n",
       "\n",
       "    .dataframe thead th {\n",
       "        text-align: right;\n",
       "    }\n",
       "</style>\n",
       "<table border=\"1\" class=\"dataframe\">\n",
       "  <thead>\n",
       "    <tr style=\"text-align: right;\">\n",
       "      <th></th>\n",
       "      <th>PassengerId</th>\n",
       "      <th>Survived</th>\n",
       "      <th>Pclass</th>\n",
       "      <th>Name</th>\n",
       "      <th>Gender</th>\n",
       "      <th>Age</th>\n",
       "      <th>SibSp</th>\n",
       "      <th>Parch</th>\n",
       "      <th>Ticket</th>\n",
       "      <th>Fare</th>\n",
       "      <th>Cabin</th>\n",
       "      <th>Embarked</th>\n",
       "    </tr>\n",
       "  </thead>\n",
       "  <tbody>\n",
       "    <tr>\n",
       "      <th>0</th>\n",
       "      <td>1</td>\n",
       "      <td>0</td>\n",
       "      <td>1</td>\n",
       "      <td>Davidson, Mr. Thornton</td>\n",
       "      <td>0</td>\n",
       "      <td>31.000000</td>\n",
       "      <td>1</td>\n",
       "      <td>0</td>\n",
       "      <td>F.C. 12750</td>\n",
       "      <td>52.0000</td>\n",
       "      <td>B71</td>\n",
       "      <td>S</td>\n",
       "    </tr>\n",
       "    <tr>\n",
       "      <th>1</th>\n",
       "      <td>2</td>\n",
       "      <td>0</td>\n",
       "      <td>3</td>\n",
       "      <td>Asim, Mr. Adola</td>\n",
       "      <td>0</td>\n",
       "      <td>35.000000</td>\n",
       "      <td>0</td>\n",
       "      <td>0</td>\n",
       "      <td>SOTON/O.Q. 3101310</td>\n",
       "      <td>7.0500</td>\n",
       "      <td>NaN</td>\n",
       "      <td>S</td>\n",
       "    </tr>\n",
       "    <tr>\n",
       "      <th>2</th>\n",
       "      <td>3</td>\n",
       "      <td>0</td>\n",
       "      <td>3</td>\n",
       "      <td>Nankoff, Mr. Minko</td>\n",
       "      <td>0</td>\n",
       "      <td>29.970867</td>\n",
       "      <td>0</td>\n",
       "      <td>0</td>\n",
       "      <td>349218</td>\n",
       "      <td>7.8958</td>\n",
       "      <td>NaN</td>\n",
       "      <td>S</td>\n",
       "    </tr>\n",
       "    <tr>\n",
       "      <th>3</th>\n",
       "      <td>4</td>\n",
       "      <td>0</td>\n",
       "      <td>1</td>\n",
       "      <td>Thayer, Mr. John Borland</td>\n",
       "      <td>0</td>\n",
       "      <td>49.000000</td>\n",
       "      <td>1</td>\n",
       "      <td>1</td>\n",
       "      <td>17421</td>\n",
       "      <td>110.8833</td>\n",
       "      <td>C68</td>\n",
       "      <td>C</td>\n",
       "    </tr>\n",
       "    <tr>\n",
       "      <th>4</th>\n",
       "      <td>5</td>\n",
       "      <td>0</td>\n",
       "      <td>3</td>\n",
       "      <td>Strandberg, Miss. Ida Sofia</td>\n",
       "      <td>1</td>\n",
       "      <td>22.000000</td>\n",
       "      <td>0</td>\n",
       "      <td>0</td>\n",
       "      <td>7553</td>\n",
       "      <td>9.8375</td>\n",
       "      <td>NaN</td>\n",
       "      <td>S</td>\n",
       "    </tr>\n",
       "  </tbody>\n",
       "</table>\n",
       "</div>"
      ],
      "text/plain": [
       "   PassengerId  Survived  Pclass                         Name  Gender  \\\n",
       "0            1         0       1       Davidson, Mr. Thornton       0   \n",
       "1            2         0       3              Asim, Mr. Adola       0   \n",
       "2            3         0       3           Nankoff, Mr. Minko       0   \n",
       "3            4         0       1     Thayer, Mr. John Borland       0   \n",
       "4            5         0       3  Strandberg, Miss. Ida Sofia       1   \n",
       "\n",
       "         Age  SibSp  Parch              Ticket      Fare Cabin Embarked  \n",
       "0  31.000000      1      0          F.C. 12750   52.0000   B71        S  \n",
       "1  35.000000      0      0  SOTON/O.Q. 3101310    7.0500   NaN        S  \n",
       "2  29.970867      0      0              349218    7.8958   NaN        S  \n",
       "3  49.000000      1      1               17421  110.8833   C68        C  \n",
       "4  22.000000      0      0                7553    9.8375   NaN        S  "
      ]
     },
     "execution_count": 6,
     "metadata": {},
     "output_type": "execute_result"
    }
   ],
   "source": [
    "training.info()\n",
    "training.head()"
   ]
  },
  {
   "cell_type": "code",
   "execution_count": 7,
   "id": "sacred-processor",
   "metadata": {},
   "outputs": [],
   "source": [
    "y_target = training[\"Survived\"].values"
   ]
  },
  {
   "cell_type": "code",
   "execution_count": 8,
   "id": "prescription-destruction",
   "metadata": {},
   "outputs": [],
   "source": [
    "columns = [\"Fare\", \"Pclass\", \"Gender\", \"Age\", \"SibSp\"]\n",
    "X_input = training[list(columns)].values"
   ]
  },
  {
   "cell_type": "code",
   "execution_count": 9,
   "id": "formed-doctrine",
   "metadata": {},
   "outputs": [],
   "source": [
    "from sklearn import tree\n",
    "\n",
    "clf_train = tree.DecisionTreeClassifier(criterion = \"entropy\", max_depth = 3)\n",
    "\n",
    "clf_train = clf_train.fit(X_input, y_target)"
   ]
  },
  {
   "cell_type": "code",
   "execution_count": 10,
   "id": "amino-dover",
   "metadata": {},
   "outputs": [
    {
     "data": {
      "text/plain": [
       "0.8163934426229508"
      ]
     },
     "execution_count": 10,
     "metadata": {},
     "output_type": "execute_result"
    }
   ],
   "source": [
    "clf_train.score(X_input, y_target)"
   ]
  },
  {
   "cell_type": "code",
   "execution_count": 11,
   "id": "guided-sheriff",
   "metadata": {},
   "outputs": [],
   "source": [
    "from six import StringIO\n",
    "with open('titanic.dot', 'w') as f:\n",
    "  f = tree.export_graphviz(clf_train, out_file=f, feature_names=columns)"
   ]
  },
  {
   "cell_type": "code",
   "execution_count": 12,
   "id": "existing-dominant",
   "metadata": {},
   "outputs": [],
   "source": [
    "!dot -Tpng titanic.dot -o titanic.png"
   ]
  },
  {
   "cell_type": "code",
   "execution_count": 13,
   "id": "comparative-perth",
   "metadata": {},
   "outputs": [
    {
     "data": {
      "image/png": "[encoded data removed]",
      "text/plain": [
       "<IPython.core.display.Image object>"
      ]
     },
     "execution_count": 13,
     "metadata": {},
     "output_type": "execute_result"
    }
   ],
   "source": [
    "from IPython.display import Image\n",
    "\n",
    "Image(\"titanic.png\")"
   ]
  },
  {
   "cell_type": "code",
   "execution_count": 14,
   "id": "ranking-religion",
   "metadata": {},
   "outputs": [],
   "source": [
    "testing = pd.read_csv('titanic-test.csv')"
   ]
  },
  {
   "cell_type": "code",
   "execution_count": 15,
   "id": "elder-chamber",
   "metadata": {},
   "outputs": [
    {
     "name": "stdout",
     "output_type": "stream",
     "text": [
      "<class 'pandas.core.frame.DataFrame'>\n",
      "RangeIndex: 393 entries, 0 to 392\n",
      "Data columns (total 12 columns):\n",
      " #   Column       Non-Null Count  Dtype  \n",
      "---  ------       --------------  -----  \n",
      " 0   PassengerId  393 non-null    int64  \n",
      " 1   Survived     393 non-null    int64  \n",
      " 2   Pclass       393 non-null    int64  \n",
      " 3   Name         393 non-null    object \n",
      " 4   Gender       393 non-null    object \n",
      " 5   Age          307 non-null    float64\n",
      " 6   SibSp        393 non-null    int64  \n",
      " 7   Parch        393 non-null    int64  \n",
      " 8   Ticket       393 non-null    object \n",
      " 9   Fare         393 non-null    float64\n",
      " 10  Cabin        93 non-null     object \n",
      " 11  Embarked     392 non-null    object \n",
      "dtypes: float64(2), int64(5), object(5)\n",
      "memory usage: 37.0+ KB\n"
     ]
    }
   ],
   "source": [
    "testing.info()\n",
    "# 393 записи\n",
    "# снова отсутствует у \"Age\""
   ]
  },
  {
   "cell_type": "code",
   "execution_count": 16,
   "id": "incredible-rugby",
   "metadata": {},
   "outputs": [],
   "source": [
    "testing[\"Gender\"] = testing[\"Gender\"].apply(\n",
    "    lambda toLabel: 0 if toLabel == 'male' else 1\n",
    ")"
   ]
  },
  {
   "cell_type": "code",
   "execution_count": 17,
   "id": "adult-iraqi",
   "metadata": {},
   "outputs": [],
   "source": [
    "testing[\"Age\"].fillna(testing[\"Age\"].mean(), inplace=True)"
   ]
  },
  {
   "cell_type": "code",
   "execution_count": 18,
   "id": "greenhouse-concord",
   "metadata": {},
   "outputs": [
    {
     "name": "stdout",
     "output_type": "stream",
     "text": [
      "<class 'pandas.core.frame.DataFrame'>\n",
      "RangeIndex: 393 entries, 0 to 392\n",
      "Data columns (total 12 columns):\n",
      " #   Column       Non-Null Count  Dtype  \n",
      "---  ------       --------------  -----  \n",
      " 0   PassengerId  393 non-null    int64  \n",
      " 1   Survived     393 non-null    int64  \n",
      " 2   Pclass       393 non-null    int64  \n",
      " 3   Name         393 non-null    object \n",
      " 4   Gender       393 non-null    int64  \n",
      " 5   Age          393 non-null    float64\n",
      " 6   SibSp        393 non-null    int64  \n",
      " 7   Parch        393 non-null    int64  \n",
      " 8   Ticket       393 non-null    object \n",
      " 9   Fare         393 non-null    float64\n",
      " 10  Cabin        93 non-null     object \n",
      " 11  Embarked     392 non-null    object \n",
      "dtypes: float64(2), int64(6), object(4)\n",
      "memory usage: 37.0+ KB\n"
     ]
    }
   ],
   "source": [
    "testing.info()"
   ]
  },
  {
   "cell_type": "code",
   "execution_count": 19,
   "id": "wound-holder",
   "metadata": {},
   "outputs": [],
   "source": [
    "X_input = testing[list(columns)].values"
   ]
  },
  {
   "cell_type": "code",
   "execution_count": 20,
   "id": "brutal-portrait",
   "metadata": {},
   "outputs": [
    {
     "data": {
      "text/html": [
       "<div>\n",
       "<style scoped>\n",
       "    .dataframe tbody tr th:only-of-type {\n",
       "        vertical-align: middle;\n",
       "    }\n",
       "\n",
       "    .dataframe tbody tr th {\n",
       "        vertical-align: top;\n",
       "    }\n",
       "\n",
       "    .dataframe thead th {\n",
       "        text-align: right;\n",
       "    }\n",
       "</style>\n",
       "<table border=\"1\" class=\"dataframe\">\n",
       "  <thead>\n",
       "    <tr style=\"text-align: right;\">\n",
       "      <th></th>\n",
       "      <th>Est_Survival</th>\n",
       "      <th>Name</th>\n",
       "    </tr>\n",
       "  </thead>\n",
       "  <tbody>\n",
       "    <tr>\n",
       "      <th>0</th>\n",
       "      <td>0</td>\n",
       "      <td>Coleridge, Mr. Reginald Charles</td>\n",
       "    </tr>\n",
       "    <tr>\n",
       "      <th>1</th>\n",
       "      <td>1</td>\n",
       "      <td>Spedden, Mrs. Frederic Oakley (Margaretta Corn...</td>\n",
       "    </tr>\n",
       "    <tr>\n",
       "      <th>2</th>\n",
       "      <td>0</td>\n",
       "      <td>Windelov, Mr. Einar</td>\n",
       "    </tr>\n",
       "    <tr>\n",
       "      <th>3</th>\n",
       "      <td>1</td>\n",
       "      <td>Minahan, Miss. Daisy E</td>\n",
       "    </tr>\n",
       "    <tr>\n",
       "      <th>4</th>\n",
       "      <td>0</td>\n",
       "      <td>Wilkes, Mrs. James (Ellen Needs)</td>\n",
       "    </tr>\n",
       "  </tbody>\n",
       "</table>\n",
       "</div>"
      ],
      "text/plain": [
       "   Est_Survival                                               Name\n",
       "0             0                    Coleridge, Mr. Reginald Charles\n",
       "1             1  Spedden, Mrs. Frederic Oakley (Margaretta Corn...\n",
       "2             0                                Windelov, Mr. Einar\n",
       "3             1                             Minahan, Miss. Daisy E\n",
       "4             0                   Wilkes, Mrs. James (Ellen Needs)"
      ]
     },
     "execution_count": 20,
     "metadata": {},
     "output_type": "execute_result"
    }
   ],
   "source": [
    "target_labels = clf_train.predict(X_input)\n",
    "\n",
    "target_labels = pd.DataFrame({'Est_Survival': target_labels, 'Name': testing['Name']})\n",
    "\n",
    "target_labels.head()"
   ]
  },
  {
   "cell_type": "code",
   "execution_count": 21,
   "id": "psychological-breeding",
   "metadata": {},
   "outputs": [
    {
     "name": "stdout",
     "output_type": "stream",
     "text": [
      "0.7588832487309645\n"
     ]
    }
   ],
   "source": [
    "import numpy as np\n",
    "\n",
    "all_data = pd.read_csv('titanic_all.csv')\n",
    "\n",
    "testing_results = pd.merge(target_labels, all_data[['Name', 'Survived']], on=['Name'])\n",
    "acc = np.sum(testing_results['Est_Survival'] == testing_results['Survived']) / float(len(testing_results))\n",
    "print(acc)"
   ]
  },
  {
   "cell_type": "code",
   "execution_count": 22,
   "id": "endless-potter",
   "metadata": {},
   "outputs": [
    {
     "name": "stdout",
     "output_type": "stream",
     "text": [
      "<class 'pandas.core.frame.DataFrame'>\n",
      "RangeIndex: 1308 entries, 0 to 1307\n",
      "Data columns (total 6 columns):\n",
      " #   Column    Non-Null Count  Dtype  \n",
      "---  ------    --------------  -----  \n",
      " 0   Survived  1308 non-null   int64  \n",
      " 1   Pclass    1308 non-null   int64  \n",
      " 2   Gender    1308 non-null   object \n",
      " 3   Age       1045 non-null   float64\n",
      " 4   SibSp     1308 non-null   int64  \n",
      " 5   Fare      1308 non-null   float64\n",
      "dtypes: float64(2), int64(3), object(1)\n",
      "memory usage: 61.4+ KB\n"
     ]
    },
    {
     "data": {
      "text/html": [
       "<div>\n",
       "<style scoped>\n",
       "    .dataframe tbody tr th:only-of-type {\n",
       "        vertical-align: middle;\n",
       "    }\n",
       "\n",
       "    .dataframe tbody tr th {\n",
       "        vertical-align: top;\n",
       "    }\n",
       "\n",
       "    .dataframe thead th {\n",
       "        text-align: right;\n",
       "    }\n",
       "</style>\n",
       "<table border=\"1\" class=\"dataframe\">\n",
       "  <thead>\n",
       "    <tr style=\"text-align: right;\">\n",
       "      <th></th>\n",
       "      <th>Survived</th>\n",
       "      <th>Pclass</th>\n",
       "      <th>Gender</th>\n",
       "      <th>Age</th>\n",
       "      <th>SibSp</th>\n",
       "      <th>Fare</th>\n",
       "    </tr>\n",
       "  </thead>\n",
       "  <tbody>\n",
       "    <tr>\n",
       "      <th>0</th>\n",
       "      <td>1</td>\n",
       "      <td>1</td>\n",
       "      <td>female</td>\n",
       "      <td>29.0000</td>\n",
       "      <td>0</td>\n",
       "      <td>211.3375</td>\n",
       "    </tr>\n",
       "    <tr>\n",
       "      <th>1</th>\n",
       "      <td>1</td>\n",
       "      <td>1</td>\n",
       "      <td>male</td>\n",
       "      <td>0.9167</td>\n",
       "      <td>1</td>\n",
       "      <td>151.5500</td>\n",
       "    </tr>\n",
       "    <tr>\n",
       "      <th>2</th>\n",
       "      <td>0</td>\n",
       "      <td>1</td>\n",
       "      <td>female</td>\n",
       "      <td>2.0000</td>\n",
       "      <td>1</td>\n",
       "      <td>151.5500</td>\n",
       "    </tr>\n",
       "    <tr>\n",
       "      <th>3</th>\n",
       "      <td>0</td>\n",
       "      <td>1</td>\n",
       "      <td>male</td>\n",
       "      <td>30.0000</td>\n",
       "      <td>1</td>\n",
       "      <td>151.5500</td>\n",
       "    </tr>\n",
       "    <tr>\n",
       "      <th>4</th>\n",
       "      <td>0</td>\n",
       "      <td>1</td>\n",
       "      <td>female</td>\n",
       "      <td>25.0000</td>\n",
       "      <td>1</td>\n",
       "      <td>151.5500</td>\n",
       "    </tr>\n",
       "  </tbody>\n",
       "</table>\n",
       "</div>"
      ],
      "text/plain": [
       "   Survived  Pclass  Gender      Age  SibSp      Fare\n",
       "0         1       1  female  29.0000      0  211.3375\n",
       "1         1       1    male   0.9167      1  151.5500\n",
       "2         0       1  female   2.0000      1  151.5500\n",
       "3         0       1    male  30.0000      1  151.5500\n",
       "4         0       1  female  25.0000      1  151.5500"
      ]
     },
     "execution_count": 22,
     "metadata": {},
     "output_type": "execute_result"
    }
   ],
   "source": [
    "all_data = pd.read_csv('titanic_all.csv', usecols=['Survived', 'Pclass', 'Gender','Age','SibSp','Fare'])\n",
    "all_data.info()\n",
    "all_data.head()"
   ]
  },
  {
   "cell_type": "code",
   "execution_count": 23,
   "id": "heated-marsh",
   "metadata": {},
   "outputs": [],
   "source": [
    "all_data[\"Gender\"] = all_data[\"Gender\"].apply(\n",
    "    lambda toLabel: 0 if toLabel == 'male' else 1\n",
    ")"
   ]
  },
  {
   "cell_type": "code",
   "execution_count": 24,
   "id": "enclosed-terror",
   "metadata": {},
   "outputs": [],
   "source": [
    "all_data[\"Age\"].fillna(all_data[\"Age\"].mean(), inplace=True)"
   ]
  },
  {
   "cell_type": "code",
   "execution_count": 25,
   "id": "defined-amendment",
   "metadata": {},
   "outputs": [
    {
     "data": {
      "text/html": [
       "<div>\n",
       "<style scoped>\n",
       "    .dataframe tbody tr th:only-of-type {\n",
       "        vertical-align: middle;\n",
       "    }\n",
       "\n",
       "    .dataframe tbody tr th {\n",
       "        vertical-align: top;\n",
       "    }\n",
       "\n",
       "    .dataframe thead th {\n",
       "        text-align: right;\n",
       "    }\n",
       "</style>\n",
       "<table border=\"1\" class=\"dataframe\">\n",
       "  <thead>\n",
       "    <tr style=\"text-align: right;\">\n",
       "      <th></th>\n",
       "      <th>Survived</th>\n",
       "      <th>Pclass</th>\n",
       "      <th>Gender</th>\n",
       "      <th>Age</th>\n",
       "      <th>SibSp</th>\n",
       "      <th>Fare</th>\n",
       "    </tr>\n",
       "  </thead>\n",
       "  <tbody>\n",
       "    <tr>\n",
       "      <th>0</th>\n",
       "      <td>1</td>\n",
       "      <td>1</td>\n",
       "      <td>1</td>\n",
       "      <td>29.0000</td>\n",
       "      <td>0</td>\n",
       "      <td>211.3375</td>\n",
       "    </tr>\n",
       "    <tr>\n",
       "      <th>1</th>\n",
       "      <td>1</td>\n",
       "      <td>1</td>\n",
       "      <td>0</td>\n",
       "      <td>0.9167</td>\n",
       "      <td>1</td>\n",
       "      <td>151.5500</td>\n",
       "    </tr>\n",
       "    <tr>\n",
       "      <th>2</th>\n",
       "      <td>0</td>\n",
       "      <td>1</td>\n",
       "      <td>1</td>\n",
       "      <td>2.0000</td>\n",
       "      <td>1</td>\n",
       "      <td>151.5500</td>\n",
       "    </tr>\n",
       "    <tr>\n",
       "      <th>3</th>\n",
       "      <td>0</td>\n",
       "      <td>1</td>\n",
       "      <td>0</td>\n",
       "      <td>30.0000</td>\n",
       "      <td>1</td>\n",
       "      <td>151.5500</td>\n",
       "    </tr>\n",
       "    <tr>\n",
       "      <th>4</th>\n",
       "      <td>0</td>\n",
       "      <td>1</td>\n",
       "      <td>1</td>\n",
       "      <td>25.0000</td>\n",
       "      <td>1</td>\n",
       "      <td>151.5500</td>\n",
       "    </tr>\n",
       "  </tbody>\n",
       "</table>\n",
       "</div>"
      ],
      "text/plain": [
       "   Survived  Pclass  Gender      Age  SibSp      Fare\n",
       "0         1       1       1  29.0000      0  211.3375\n",
       "1         1       1       0   0.9167      1  151.5500\n",
       "2         0       1       1   2.0000      1  151.5500\n",
       "3         0       1       0  30.0000      1  151.5500\n",
       "4         0       1       1  25.0000      1  151.5500"
      ]
     },
     "execution_count": 25,
     "metadata": {},
     "output_type": "execute_result"
    }
   ],
   "source": [
    "all_data.head()"
   ]
  },
  {
   "cell_type": "code",
   "execution_count": 26,
   "id": "proper-incident",
   "metadata": {},
   "outputs": [],
   "source": [
    "from sklearn.model_selection import train_test_split\n",
    "\n",
    "X = all_data[list(columns)].values\n",
    "y = all_data[\"Survived\"].values\n",
    "\n",
    "X_train, X_test, y_train, y_test = train_test_split(X,y, test_size = 0.4, random_state = 0)"
   ]
  },
  {
   "cell_type": "code",
   "execution_count": 27,
   "id": "artificial-stylus",
   "metadata": {},
   "outputs": [],
   "source": [
    "clf_train = tree.DecisionTreeClassifier(criterion=\"entropy\", max_depth=3)\n",
    "\n",
    "clf_train = clf_train.fit(X_train, y_train)"
   ]
  },
  {
   "cell_type": "code",
   "execution_count": 28,
   "id": "working-forward",
   "metadata": {},
   "outputs": [
    {
     "name": "stdout",
     "output_type": "stream",
     "text": [
      "Training score = 0.8201530612244898 Testing score = 0.8053435114503816\n"
     ]
    }
   ],
   "source": [
    "train_score = str(clf_train.score(X_train, y_train))\n",
    "test_score = str(clf_train.score(X_test, y_test))\n",
    "\n",
    "print('Training score = '+ train_score + ' Testing score = '+test_score)"
   ]
  },
  {
   "cell_type": "code",
   "execution_count": 29,
   "id": "fantastic-regard",
   "metadata": {},
   "outputs": [
    {
     "name": "stdout",
     "output_type": "stream",
     "text": [
      "Training score = 0.7869897959183674 Testing score = 0.7767175572519084\n"
     ]
    }
   ],
   "source": [
    "clf_train = tree.DecisionTreeClassifier(criterion=\"gini\", splitter=\"random\", max_depth=3)\n",
    "\n",
    "clf_train = clf_train.fit(X_train, y_train)\n",
    "\n",
    "train_score = str(clf_train.score(X_train, y_train))\n",
    "test_score = str(clf_train.score(X_test, y_test))\n",
    "\n",
    "print('Training score = '+ train_score + ' Testing score = '+test_score)"
   ]
  },
  {
   "cell_type": "code",
   "execution_count": null,
   "id": "stable-christmas",
   "metadata": {},
   "outputs": [],
   "source": []
  }
 ],
 "metadata": {
  "kernelspec": {
   "display_name": "Python 3",
   "language": "python",
   "name": "python3"
  },
  "language_info": {
   "codemirror_mode": {
    "name": "ipython",
    "version": 3
   },
   "file_extension": ".py",
   "mimetype": "text/x-python",
   "name": "python",
   "nbconvert_exporter": "python",
   "pygments_lexer": "ipython3",
   "version": "3.9.4"
  }
 },
 "nbformat": 4,
 "nbformat_minor": 5
}
